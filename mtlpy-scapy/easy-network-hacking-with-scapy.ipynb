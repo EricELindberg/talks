{
 "metadata": {
  "celltoolbar": "Slideshow",
  "name": "",
  "signature": "sha256:081c28f070e8f6a38aeb9e73dcd6971127457a6ec6125fbc77928ce29207ac28"
 },
 "nbformat": 3,
 "nbformat_minor": 0,
 "worksheets": [
  {
   "cells": [
    {
     "cell_type": "markdown",
     "metadata": {
      "internals": {
       "slide_helper": "subslide_end",
       "slide_type": "subslide"
      },
      "slide_helper": "slide_end",
      "slideshow": {
       "slide_type": "slide"
      }
     },
     "source": [
      "<center> <h1> Easy network hacking with Scapy! </h1> \n",
      "<br><br>\n",
      "Julia Evans<br>\n",
      "@b0rk <br>\n",
      "http://jvns.ca\n",
      "<br><br>\n",
      "Follow along at http://bit.ly/scapy-fun\n",
      "\n",
      "</center>\n"
     ]
    },
    {
     "cell_type": "markdown",
     "metadata": {
      "internals": {
       "slide_helper": "subslide_end",
       "slide_type": "subslide"
      },
      "slide_helper": "slide_end",
      "slideshow": {
       "slide_type": "slide"
      }
     },
     "source": [
      "<center><h1> Network hacking? That sounds hard.</h1></center>\n"
     ]
    },
    {
     "cell_type": "markdown",
     "metadata": {
      "internals": {
       "slide_helper": "subslide_end",
       "slide_type": "subslide"
      },
      "slide_helper": "slide_end",
      "slideshow": {
       "slide_type": "slide"
      }
     },
     "source": [
      "<center><h1> Ping, the hard way</h1></center>\n",
      "\n",
      "```c\n",
      "/*\n",
      " * IP_HEADER prototype\n",
      " */\n",
      "struct ip_header\n",
      "{\n",
      "\tunsigned int\thl:4,\t\t/* 4 bit header length */\n",
      "\t\t\t\t\tver:4;\t\t/* 4 bit version */\n",
      "\tunsigned char\ttos;\t\t/* type of service */\n",
      "\tunsigned short  totl;\t\t/* total length of datagram */\n",
      "\tunsigned short\tid;\t\t/* identifier */\n",
      "\tunsigned short \tnotused;\t/* this is were flags and fragment offset would go */\n",
      "\tunsigned char \tttl;\t\t/* time to live */\n",
      "\tunsigned char\tprot;\t\t/* protocol */\n",
      "\tunsigned short\tcsum;\t\t/* our checksum */\n",
      "\tunsigned long \tsaddr;\t\t/* source address */\n",
      "\tunsigned long \tdaddr;\t\t/* destination address */\n",
      "};\n",
      "```"
     ]
    },
    {
     "cell_type": "markdown",
     "metadata": {
      "internals": {
       "slide_helper": "subslide_end",
       "slide_type": "subslide"
      },
      "slide_helper": "slide_end",
      "slideshow": {
       "slide_type": "slide"
      }
     },
     "source": [
      "<center><h1> Ping, the hard way</h1></center>\n",
      "\n",
      "```c\n",
      "struct icmp_echo\n",
      "{\n",
      "\tunsigned char type;\n",
      "\tunsigned char code;\n",
      "\tunsigned short checksum;\n",
      "\tunsigned short identifier;\n",
      "\tunsigned short sequence;\n",
      "\tchar data[MTU]; /* we're going to send data MTU bytes at a time */\n",
      "};\n",
      "```\n",
      "\n",
      "Source: http://sickbits.net/code2/sendicmp.c.txt"
     ]
    },
    {
     "cell_type": "markdown",
     "metadata": {
      "internals": {
       "slide_type": "subslide"
      },
      "slideshow": {
       "slide_type": "slide"
      }
     },
     "source": [
      "<center><h1> Ping, the easy way</h1></center>"
     ]
    },
    {
     "cell_type": "code",
     "collapsed": false,
     "input": [
      "!nslookup google.com  | tail -3"
     ],
     "language": "python",
     "metadata": {
      "internals": {
       "frag_number": 5
      },
      "slideshow": {
       "slide_type": "fragment"
      }
     },
     "outputs": [
      {
       "output_type": "stream",
       "stream": "stdout",
       "text": [
        "Name:\tgoogle.com\r\n",
        "Address: 74.125.225.130\r\n",
        "\r\n"
       ]
      }
     ],
     "prompt_number": 1
    },
    {
     "cell_type": "code",
     "collapsed": false,
     "input": [
      "from scapy.all import IP, ICMP, sr1, UDP\n",
      "sr1(IP(dst=\"74.125.225.130\") / ICMP())"
     ],
     "language": "python",
     "metadata": {
      "internals": {
       "frag_helper": "fragment_end",
       "frag_number": 6,
       "slide_helper": "subslide_end"
      },
      "slide_helper": "slide_end",
      "slideshow": {
       "slide_type": "fragment"
      }
     },
     "outputs": [
      {
       "output_type": "stream",
       "stream": "stdout",
       "text": [
        "\n",
        "Received 19 packets, got 1 answers, remaining 0 packets\n",
        "Begin emission:\n",
        "Finished to send 1 packets.\n"
       ]
      },
      {
       "metadata": {},
       "output_type": "pyout",
       "prompt_number": 71,
       "text": [
        "<IP  version=4L ihl=5L tos=0x0 len=28 id=41134 flags= frag=0L ttl=53 proto=icmp chksum=0xf71b src=74.125.225.130 dst=192.168.1.111 options=[] |<ICMP  type=echo-reply code=0 chksum=0x0 id=0x0 seq=0x0 |<Padding  load='\\x00\\x00\\x00\\x00\\x00\\x00\\x00\\x00\\x00\\x00\\x00\\x00\\x00\\x00\\x96\\x02\\xecx' |>>>"
       ]
      }
     ],
     "prompt_number": 71
    },
    {
     "cell_type": "markdown",
     "metadata": {
      "internals": {
       "frag_helper": "fragment_end",
       "frag_number": 6,
       "slide_type": "subslide"
      },
      "slideshow": {
       "slide_type": "slide"
      }
     },
     "source": [
      "<center><h1> Traceroute! </h1></center>\n"
     ]
    },
    {
     "cell_type": "code",
     "collapsed": false,
     "input": [
      "!traceroute google.com"
     ],
     "language": "python",
     "metadata": {
      "internals": {
       "frag_helper": "fragment_end",
       "frag_number": 8,
       "slide_helper": "subslide_end"
      },
      "slide_helper": "slide_end",
      "slideshow": {
       "slide_type": "fragment"
      }
     },
     "outputs": [
      {
       "output_type": "stream",
       "stream": "stdout",
       "text": [
        "traceroute to google.com (173.194.46.110), 30 hops max, 60 byte packets\r\n",
        " 1  unknown (192.168.1.1)  1.140 ms  2.220 ms  4.860 ms\r\n"
       ]
      },
      {
       "output_type": "stream",
       "stream": "stdout",
       "text": [
        " 2  10.244.148.193 (10.244.148.193)  9.948 ms  10.072 ms  10.308 ms\r\n"
       ]
      },
      {
       "output_type": "stream",
       "stream": "stdout",
       "text": [
        " 3  mx480-xe-1-1-0.electronicbox.net (74.116.184.81)  15.487 ms  16.290 ms  16.437 ms\r\n",
        " 4  mx480-xe-1-1-0.electronicbox.net (74.116.184.81)  16.550 ms  16.997 ms  16.711 ms\r\n",
        " 5  xe-4-3-0-402.mtl10.ip4.tinet.net (199.168.63.17)  15.517 ms  15.611 ms  15.837 ms\r\n",
        " 6  xe-1-0-0.nyc38.ip4.tinet.net (89.149.181.182)  23.302 ms"
       ]
      },
      {
       "output_type": "stream",
       "stream": "stdout",
       "text": [
        " 141.136.105.14 (141.136.105.14)  26.791 ms  28.973 ms\r\n"
       ]
      },
      {
       "output_type": "stream",
       "stream": "stdout",
       "text": [
        " 7  72.14.216.137 (72.14.216.137)  29.095 ms  28.476 ms"
       ]
      },
      {
       "output_type": "stream",
       "stream": "stdout",
       "text": [
        "  26.835 ms\r\n"
       ]
      },
      {
       "output_type": "stream",
       "stream": "stdout",
       "text": [
        " 8  209.85.255.68 (209.85.255.68)  26.935 ms  32.261 ms  32.038 ms\r\n"
       ]
      },
      {
       "output_type": "stream",
       "stream": "stdout",
       "text": [
        " 9  209.85.252.250 (209.85.252.250)  32.448 ms"
       ]
      },
      {
       "output_type": "stream",
       "stream": "stdout",
       "text": [
        " 72.14.236.208 (72.14.236.208)  22.033 ms  24.306 ms\r\n"
       ]
      },
      {
       "output_type": "stream",
       "stream": "stdout",
       "text": [
        "10  72.14.239.93 (72.14.239.93)  28.168 ms  28.429 ms  28.586 ms\r\n"
       ]
      },
      {
       "output_type": "stream",
       "stream": "stdout",
       "text": [
        "11  209.85.246.83 (209.85.246.83)  38.195 ms  37.995 ms  37.750 ms\r\n"
       ]
      },
      {
       "output_type": "stream",
       "stream": "stdout",
       "text": [
        "12  209.85.254.241 (209.85.254.241)  36.865 ms"
       ]
      },
      {
       "output_type": "stream",
       "stream": "stdout",
       "text": [
        " 72.14.237.131 (72.14.237.131)  37.039 ms  37.257 ms\r\n"
       ]
      },
      {
       "output_type": "stream",
       "stream": "stdout",
       "text": [
        "13  209.85.245.225 (209.85.245.225)  32.383 ms  32.096 ms  31.515 ms\r\n"
       ]
      },
      {
       "output_type": "stream",
       "stream": "stdout",
       "text": [
        "14  ord08s13-in-f14.1e100.net (173.194.46.110)  32.362 ms  33.409 ms  33.327 ms\r\n"
       ]
      }
     ],
     "prompt_number": 61
    },
    {
     "cell_type": "markdown",
     "metadata": {
      "internals": {
       "frag_helper": "fragment_end",
       "frag_number": 8,
       "slide_type": "subslide"
      },
      "slideshow": {
       "slide_type": "slide"
      }
     },
     "source": [
      "<center><h1> Traceroute! </h1></center>\n",
      "\n",
      "Strategy: Set the **time to live** (**ttl**) to a small number. Our packet dies in transit!"
     ]
    },
    {
     "cell_type": "code",
     "collapsed": false,
     "input": [
      "reply = sr1(IP(dst=\"74.125.225.1\", ttl=1) / UDP())\n",
      "reply"
     ],
     "language": "python",
     "metadata": {
      "internals": {
       "frag_helper": "fragment_end",
       "frag_number": 10
      },
      "slideshow": {
       "slide_type": "fragment"
      }
     },
     "outputs": [
      {
       "output_type": "stream",
       "stream": "stdout",
       "text": [
        "\n",
        "Received 16 packets, got 1 answers, remaining 0 packets\n",
        "Begin emission:\n",
        "Finished to send 1 packets.\n"
       ]
      },
      {
       "metadata": {},
       "output_type": "pyout",
       "prompt_number": 77,
       "text": [
        "<IP  version=4L ihl=5L tos=0xc0 len=56 id=9049 flags= frag=0L ttl=64 proto=icmp chksum=0xd2eb src=192.168.1.1 dst=192.168.1.111 options=[] |<ICMP  type=time-exceeded code=ttl-zero-during-transit chksum=0xe2af unused=0 |<IPerror  version=4L ihl=5L tos=0x0 len=28 id=1 flags= frag=0L ttl=1 proto=udp chksum=0xcc3a src=192.168.1.111 dst=74.125.225.1 options=[] |<UDPerror  sport=domain dport=domain len=8 chksum=0x11de |>>>>"
       ]
      }
     ],
     "prompt_number": 77
    },
    {
     "cell_type": "code",
     "collapsed": false,
     "input": [
      "reply.src"
     ],
     "language": "python",
     "metadata": {
      "internals": {
       "frag_helper": "fragment_end",
       "frag_number": 11,
       "slide_helper": "subslide_end"
      },
      "slide_helper": "slide_end",
      "slideshow": {
       "slide_type": "fragment"
      }
     },
     "outputs": [
      {
       "metadata": {},
       "output_type": "pyout",
       "prompt_number": 60,
       "text": [
        "'192.168.1.1'"
       ]
      }
     ],
     "prompt_number": 60
    },
    {
     "cell_type": "markdown",
     "metadata": {
      "internals": {
       "frag_helper": "fragment_end",
       "frag_number": 11,
       "slide_type": "subslide"
      },
      "slideshow": {
       "slide_type": "slide"
      }
     },
     "source": [
      "<center><h1> Traceroute! </h1></center>"
     ]
    },
    {
     "cell_type": "code",
     "collapsed": false,
     "input": [
      "for ttl in range(6):\n",
      "    packet = IP(dst=\"74.125.225.1\", ttl=ttl) / UDP()\n",
      "    reply = sr1(packet, verbose=0)\n",
      "    print reply.src"
     ],
     "language": "python",
     "metadata": {
      "internals": {
       "frag_helper": "fragment_end",
       "frag_number": 13
      },
      "slideshow": {
       "slide_type": "fragment"
      }
     },
     "outputs": [
      {
       "output_type": "stream",
       "stream": "stdout",
       "text": [
        "192.168.1.1\n",
        "192.168.1.1\n",
        "10.244.148.193"
       ]
      },
      {
       "output_type": "stream",
       "stream": "stdout",
       "text": [
        "\n",
        "74.116.184.81\n",
        "74.116.184.81"
       ]
      },
      {
       "output_type": "stream",
       "stream": "stdout",
       "text": [
        "\n",
        "199.168.63.17"
       ]
      },
      {
       "output_type": "stream",
       "stream": "stdout",
       "text": [
        "\n"
       ]
      }
     ],
     "prompt_number": 90
    },
    {
     "cell_type": "code",
     "collapsed": false,
     "input": [
      "import socket\n",
      "print socket.gethostbyaddr(\"74.116.184.81\")\n",
      "print socket.gethostbyaddr(\"199.168.63.17\")\n",
      "socket.getservbyname?"
     ],
     "language": "python",
     "metadata": {
      "internals": {
       "frag_helper": "fragment_end",
       "frag_number": 13
      },
      "slideshow": {
       "slide_type": "fragment"
      }
     },
     "outputs": [
      {
       "output_type": "stream",
       "stream": "stdout",
       "text": [
        "('mx480-xe-1-1-0.electronicbox.net', [], ['74.116.184.81'])\n",
        "('xe-4-3-0-402.mtl10.ip4.tinet.net', [], ['199.168.63.17'])\n"
       ]
      }
     ],
     "prompt_number": 92
    },
    {
     "cell_type": "markdown",
     "metadata": {
      "slideshow": {
       "slide_type": "slide"
      }
     },
     "source": [
      "<center><h1> But I promised hacking! </h1></center>"
     ]
    },
    {
     "cell_type": "code",
     "collapsed": false,
     "input": [],
     "language": "python",
     "metadata": {
      "internals": {
       "frag_helper": "fragment_end",
       "frag_number": 13
      },
      "slideshow": {
       "slide_type": "fragment"
      }
     },
     "outputs": []
    },
    {
     "cell_type": "code",
     "collapsed": false,
     "input": [],
     "language": "python",
     "metadata": {
      "internals": {
       "frag_helper": "fragment_end",
       "frag_number": 13
      },
      "slideshow": {
       "slide_type": "-"
      }
     },
     "outputs": []
    },
    {
     "cell_type": "code",
     "collapsed": false,
     "input": [],
     "language": "python",
     "metadata": {
      "internals": {
       "frag_helper": "fragment_end",
       "frag_number": 13,
       "slide_helper": "subslide_end"
      },
      "slide_helper": "slide_end",
      "slideshow": {
       "slide_type": "-"
      }
     },
     "outputs": []
    }
   ],
   "metadata": {}
  }
 ]
}