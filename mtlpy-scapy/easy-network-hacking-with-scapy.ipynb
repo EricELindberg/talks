{
 "metadata": {
  "celltoolbar": "Slideshow",
  "name": "",
  "signature": "sha256:90e331370543a7737f5364c3c9d63b00fbb0c0e16ce78e2be2ad91473a73bc13"
 },
 "nbformat": 3,
 "nbformat_minor": 0,
 "worksheets": [
  {
   "cells": [
    {
     "cell_type": "markdown",
     "metadata": {
      "internals": {
       "slide_helper": "subslide_end",
       "slide_type": "subslide"
      },
      "slide_helper": "slide_end",
      "slideshow": {
       "slide_type": "slide"
      }
     },
     "source": [
      "<center> <h1> Easy network hacking with Scapy! </h1> \n",
      "<br><br>\n",
      "Julia Evans<br>\n",
      "@b0rk <br>\n",
      "http://jvns.ca\n",
      "<br><br>\n",
      "Follow along at http://bit.ly/scapy-fun\n",
      "\n",
      "</center>\n"
     ]
    },
    {
     "cell_type": "markdown",
     "metadata": {
      "internals": {
       "slide_helper": "subslide_end",
       "slide_type": "subslide"
      },
      "slide_helper": "slide_end",
      "slideshow": {
       "slide_type": "slide"
      }
     },
     "source": [
      "<center><h1> Network hacking? That sounds hard.</h1></center>\n"
     ]
    },
    {
     "cell_type": "markdown",
     "metadata": {
      "internals": {
       "slide_helper": "subslide_end",
       "slide_type": "subslide"
      },
      "slide_helper": "slide_end",
      "slideshow": {
       "slide_type": "slide"
      }
     },
     "source": [
      "<center><h1> Ping, the hard way</h1></center>\n",
      "\n",
      "```c\n",
      "/*\n",
      " * IP_HEADER prototype\n",
      " */\n",
      "struct ip_header\n",
      "{\n",
      "\tunsigned int\thl:4,\t\t/* 4 bit header length */\n",
      "\t\t\t\t\tver:4;\t\t/* 4 bit version */\n",
      "\tunsigned char\ttos;\t\t/* type of service */\n",
      "\tunsigned short  totl;\t\t/* total length of datagram */\n",
      "\tunsigned short\tid;\t\t/* identifier */\n",
      "\tunsigned short \tnotused;\t/* this is were flags and fragment offset would go */\n",
      "\tunsigned char \tttl;\t\t/* time to live */\n",
      "\tunsigned char\tprot;\t\t/* protocol */\n",
      "\tunsigned short\tcsum;\t\t/* our checksum */\n",
      "\tunsigned long \tsaddr;\t\t/* source address */\n",
      "\tunsigned long \tdaddr;\t\t/* destination address */\n",
      "};\n",
      "```"
     ]
    },
    {
     "cell_type": "markdown",
     "metadata": {
      "internals": {
       "slide_helper": "subslide_end",
       "slide_type": "subslide"
      },
      "slide_helper": "slide_end",
      "slideshow": {
       "slide_type": "slide"
      }
     },
     "source": [
      "<center><h1> Ping, the hard way</h1></center>\n",
      "\n",
      "```c\n",
      "struct icmp_echo\n",
      "{\n",
      "\tunsigned char type;\n",
      "\tunsigned char code;\n",
      "\tunsigned short checksum;\n",
      "\tunsigned short identifier;\n",
      "\tunsigned short sequence;\n",
      "\tchar data[MTU]; /* we're going to send data MTU bytes at a time */\n",
      "};\n",
      "```\n",
      "\n",
      "Source: http://sickbits.net/code2/sendicmp.c.txt"
     ]
    },
    {
     "cell_type": "markdown",
     "metadata": {
      "internals": {
       "slide_type": "subslide"
      },
      "slideshow": {
       "slide_type": "slide"
      }
     },
     "source": [
      "<center><h1> Ping, the easy way</h1></center>"
     ]
    },
    {
     "cell_type": "code",
     "collapsed": false,
     "input": [
      "!nslookup google.com  | tail -3"
     ],
     "language": "python",
     "metadata": {
      "internals": {
       "frag_number": 5
      },
      "slideshow": {
       "slide_type": "fragment"
      }
     },
     "outputs": [
      {
       "output_type": "stream",
       "stream": "stdout",
       "text": [
        "Name:\tgoogle.com\r\n",
        "Address: 74.125.225.130\r\n",
        "\r\n"
       ]
      }
     ],
     "prompt_number": 1
    },
    {
     "cell_type": "code",
     "collapsed": false,
     "input": [
      "from scapy.all import IP, ICMP, sr1\n",
      "sr1(IP(dst=\"74.125.225.1\") / ICMP())"
     ],
     "language": "python",
     "metadata": {},
     "outputs": []
    },
    {
     "cell_type": "code",
     "collapsed": false,
     "input": [],
     "language": "python",
     "metadata": {},
     "outputs": []
    }
   ],
   "metadata": {}
  }
 ]
}